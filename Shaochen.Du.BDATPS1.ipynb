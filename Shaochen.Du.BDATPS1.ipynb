{
 "cells": [
  {
   "cell_type": "markdown",
   "metadata": {},
   "source": [
    "# Question 1\n",
    "\n",
    "What data type is each of the following?"
   ]
  },
  {
   "cell_type": "markdown",
   "metadata": {},
   "source": [
    "|  Data  | Data type  |\n",
    "|---|---|\n",
    "| 5  | int  | \n",
    "| 5.0 | float  |   \n",
    "| 5>1  |boolean   | \n",
    "| '5'  | string  | \n",
    "|5 * 2  | int  |   \n",
    "|'5' * 2 | string  | \n",
    "|'5' + '2' | string  |   \n",
    "|5/2   |float   | \n",
    "|5 // 2|int   |   \n",
    "|[5, 2, 1]| list  | \n",
    "|5 in [1, 4, 6]   |  boolean | \n",
    "|math.pi| double  |   \n"
   ]
  },
  {
   "cell_type": "markdown",
   "metadata": {},
   "source": [
    "# Question 2\n",
    "\n",
    "Write (and evaluate) C# expressions that answer these questions:\n",
    "a. How many letters are there in 'Supercalifragilisticexpialidocious'?"
   ]
  },
  {
   "cell_type": "markdown",
   "metadata": {},
   "source": [
    "    using System;\n",
    "\n",
    "    namespace Data_Programming\n",
    "    {\n",
    "      class stringfun\n",
    "      {\n",
    "        public void findlength(string s)\n",
    "        {\n",
    "        Console.WriteLine(s.Length);\n",
    "        }\n",
    "        static void Main(string[] args)\n",
    "        {\n",
    "          stringfun n = new stringfun();\n",
    "          n.findlength(\"Supercalifragilisticexpialidocious\");\n",
    "        }\n",
    "      }\n",
    "    }\n",
    "\n"
   ]
  },
  {
   "cell_type": "markdown",
   "metadata": {},
   "source": [
    "![output](2a.png)"
   ]
  },
  {
   "cell_type": "markdown",
   "metadata": {},
   "source": [
    " b. Does 'Supercalifragilisticexpialidocious' contain 'ice' as a substring?"
   ]
  },
  {
   "cell_type": "markdown",
   "metadata": {},
   "source": [
    "    using System;\n",
    "\n",
    "    namespace Data_Programming\n",
    "    {\n",
    "      class stringfun\n",
    "      {\n",
    "        public void findingsub(string s, string sub)\n",
    "        {\n",
    "\n",
    "        Console.WriteLine(s.Contains(sub));\n",
    "        }\n",
    "        static void Main(string[] args)\n",
    "        {\n",
    "          stringfun n = new stringfun();\n",
    "          n.findingsub(\"Supercalifragilisticexpialidocious\",\"ice\");\n",
    "        }\n",
    "      }\n",
    "    }\n",
    "\n"
   ]
  },
  {
   "cell_type": "markdown",
   "metadata": {},
   "source": [
    "![output](2b.png)"
   ]
  },
  {
   "cell_type": "markdown",
   "metadata": {},
   "source": [
    "c. Which of the following words is the longest: Supercalifragilisticexpialidocious, Honorificabilitudinitatibus, or Bababadalgharaghtakamminarronnkonn?"
   ]
  },
  {
   "cell_type": "markdown",
   "metadata": {},
   "source": [
    "    using System;\n",
    "\n",
    "    class Program\n",
    "    {\n",
    "        static void Main()\n",
    "        {\n",
    "            String a = \"Supercalifragilisticexpialidocious\";\n",
    "            String b = \"Honorificabilitudinitatibus\";\n",
    "            String c = \"Bababadalgharaghtakamminarronnkonn\";\n",
    "\n",
    "\n",
    "            if (a.Length > b.Length && a.Length > c.Length){\n",
    "                Console.Write(a + \" is the longest word\");\n",
    "            } else if (b.Length > a.Length && b.Length > c.Length){\n",
    "                Console.Write(b + \" is the longest word\");\n",
    "            } else if (c.Length > b.Length && c.Length > a.Length){\n",
    "                Console.Write(c + \" is the longest word\");\n",
    "            } else {\n",
    "                Console.Write(\"There are some words has the same length\");\n",
    "            }\n",
    "\n",
    "\n",
    "        }\n",
    "    }"
   ]
  },
  {
   "cell_type": "markdown",
   "metadata": {},
   "source": [
    "![output](2c.png)"
   ]
  },
  {
   "cell_type": "markdown",
   "metadata": {},
   "source": [
    "d. Which composer comes first in the dictionary: 'Berlioz', 'Borodin', 'Brian', 'Bartok', 'Bellini', 'Buxtehude', 'Bernstein'. Which one comes last?"
   ]
  },
  {
   "cell_type": "markdown",
   "metadata": {},
   "source": [
    "    using System;\n",
    "\n",
    "    class Program\n",
    "    {\n",
    "        static void Main()\n",
    "        {\n",
    "            string[] composer = new string[]{\"Berlioz\", \"Borodin\", \"Brian\", \"Bartok\", \"Bellini\", \"Buxtehude\", \"Bernstein\"};\n",
    "            Array.Sort(composer);\n",
    "            Console.WriteLine(\"The composer comes first is \" + composer[0]);\n",
    "            Console.WriteLine(\"The composer comes last is \" + composer[composer.Length-1]);\n",
    "        }\n",
    "      }\n",
    "\n",
    "\n",
    "\n",
    "\n"
   ]
  },
  {
   "cell_type": "markdown",
   "metadata": {},
   "source": [
    "![output](2d.png)"
   ]
  },
  {
   "cell_type": "markdown",
   "metadata": {},
   "source": [
    "# Question 3\n",
    "\n",
    "Implement function triangleArea(a,b,c) that takes as input the lengths of the 3 sides of a triangle and returns the area of the triangle. By Heron's formula, the area of a triangle with side lengths a, b, and c is s(s-a)(s-b)(s-c), where\n",
    "s=(a+b+c)/2.\n",
    ">>> triangleArea(2,2,2)\n",
    "1.7320508075688772\n"
   ]
  },
  {
   "cell_type": "markdown",
   "metadata": {},
   "source": [
    "    using System;\n",
    "\n",
    "    namespace Data_Programming\n",
    "    {\n",
    "        class Program\n",
    "        {\n",
    "            static void Main(string[] args)\n",
    "            {\n",
    "                Console.WriteLine(areatriangle(2, 2, 2));\n",
    "                Console.ReadLine();\n",
    "            }\n",
    "            static double areatriangle(int a, int b, int c)\n",
    "            {\n",
    "                float s =(a+b+c) / 2;\n",
    "                float f = s*(s - a)*(s - b)*(s - c);\n",
    "                double area = Math.Sqrt(f);\n",
    "                return area;\n",
    "\n",
    "            }\n",
    "\n",
    "            }\n",
    "        }"
   ]
  },
  {
   "cell_type": "markdown",
   "metadata": {},
   "source": [
    "![output](3.png)"
   ]
  },
  {
   "cell_type": "markdown",
   "metadata": {},
   "source": [
    "# Question 4\n",
    "\n",
    "Write a program in C# Sharp to separate odd and even integers in separate arrays. Go to the editor\n",
    "Test Data :\n",
    "Input the number of elements to be stored in the array :5\n",
    "Input 5 elements in the array : element - 0 : 25\n",
    "element - 1 : 47\n",
    "element - 2 : 42\n",
    "element - 3 : 56 element - 4 : 32 Expected Output:\n",
    "The Even elements are: 42 56 32\n",
    "The Odd elements are : 25 47"
   ]
  },
  {
   "cell_type": "markdown",
   "metadata": {},
   "source": [
    "     using System;\n",
    "\n",
    "    class Program\n",
    "    {\n",
    "        static void Main()\n",
    "        {\n",
    "            int[] intArray = new int[]{25, 47, 42, 56, 32};\n",
    "\n",
    "           for(int i = 0; i < intArray.Length; i++){\n",
    "               if(intArray[i] % 2 == 0){\n",
    "\n",
    "                   Console.Write(\"The even elements is: \");\n",
    "                   Console.Write(intArray[i]);\n",
    "                   Console.WriteLine();\n",
    "\n",
    "\n",
    "               } else {\n",
    "                   Console.Write(\"The odd elements is: \");\n",
    "                   Console.Write(intArray[i]);\n",
    "                   Console.WriteLine();\n",
    "               }\n",
    "          }\n",
    "    }\n",
    "    }"
   ]
  },
  {
   "cell_type": "markdown",
   "metadata": {},
   "source": [
    "![output](4.png)"
   ]
  },
  {
   "cell_type": "markdown",
   "metadata": {},
   "source": [
    "# Question 5\n",
    "\n",
    "a. Write a function inside(x,y,x1,y1,x2,y2) that returns True or False depending on whether the point (x,y) lies in the rectangle with lower left corner (x1,y1) and upper right corner (x2,y2).\n",
    "     >>> inside(1,1,0,0,2,3)\n",
    "     True\n",
    "     >>> inside(-1,-1,0,0,2,3)\n",
    "     False"
   ]
  },
  {
   "cell_type": "markdown",
   "metadata": {},
   "source": [
    "    using System; \n",
    "\n",
    "    class Program\n",
    "    { \n",
    "\n",
    "    static bool FindPoint(int x, int y, int x1, int y1, int x2, \n",
    "                          int y2) \n",
    "    { \n",
    "    if (x > x1 && x < x2 && \n",
    "        y > y1 && y < y2) \n",
    "        return true; \n",
    "\n",
    "    return false; \n",
    "    } \n",
    "    public static void Main()  \n",
    "    { \n",
    "\n",
    "        int x1 = 0, y1 = 0,  \n",
    "            x2 = 2, y2 = 3; \n",
    "\n",
    "        int x = 1, y = 1; \n",
    "\n",
    "\n",
    "        if (FindPoint(x, y, x1, y1, x2, y2)) \n",
    "            Console.Write(\"True\"); \n",
    "        else\n",
    "            Console.Write(\"False\"); \n",
    "    } \n",
    "    } "
   ]
  },
  {
   "cell_type": "markdown",
   "metadata": {},
   "source": [
    "![output](5a.png)"
   ]
  },
  {
   "cell_type": "markdown",
   "metadata": {},
   "source": [
    "    using System; \n",
    "\n",
    "        class Program\n",
    "        { \n",
    "\n",
    "        static bool FindPoint(int x, int y, int x1, int y1, int x2, \n",
    "                              int y2) \n",
    "        { \n",
    "        if (x > x1 && x < x2 && \n",
    "            y > y1 && y < y2) \n",
    "            return true; \n",
    "\n",
    "        return false; \n",
    "        } \n",
    "        public static void Main()  \n",
    "        { \n",
    "\n",
    "            int x1 = 0, y1 = 0,  \n",
    "                x2 = 2, y2 = 3; \n",
    "\n",
    "            int x = -1, y = -1; \n",
    "\n",
    "\n",
    "            if (FindPoint(x, y, x1, y1, x2, y2)) \n",
    "                Console.Write(\"True\"); \n",
    "            else\n",
    "                Console.Write(\"False\"); \n",
    "        } \n",
    "        } "
   ]
  },
  {
   "cell_type": "markdown",
   "metadata": {},
   "source": [
    "![output](5a2.png)"
   ]
  },
  {
   "cell_type": "markdown",
   "metadata": {},
   "source": [
    "b. Use function inside() from part a. to write an expression that tests whether the point (1,1) lies in both of the following rectangles: one with lower left corner (0.3, 0.5) and upper right corner (1.1, 0.7) and the other with lower left corner (0.5, 0.2) and upper right corner (1.1, 2)."
   ]
  },
  {
   "cell_type": "markdown",
   "metadata": {},
   "source": [
    "    using System; \n",
    "\n",
    "    class Program\n",
    "    { \n",
    "\n",
    "\n",
    "    static bool FindPoint(int x1, int y1, int x2, \n",
    "                          int y2, int x, int y) \n",
    "    { \n",
    "    if (x > x1 && x < x2 && \n",
    "        y > y1 && y < y2) \n",
    "        return true; \n",
    "\n",
    "    return false; \n",
    "    } \n",
    "\n",
    "    public static void Main()  \n",
    "    { \n",
    "\n",
    "\n",
    "        int x1 = 3, y1 = 5,  \n",
    "            x2 = 11, y2 = 7; \n",
    "\n",
    "        int x = 10, y = 10; \n",
    "\n",
    "\n",
    "        if (FindPoint(x1, y1, x2, y2, x, y)) \n",
    "            Console.Write(\"Yes\"); \n",
    "        else\n",
    "            Console.Write(\"No\"); \n",
    "    } \n",
    "    } "
   ]
  },
  {
   "cell_type": "markdown",
   "metadata": {},
   "source": [
    "![output](5b.png)"
   ]
  },
  {
   "cell_type": "markdown",
   "metadata": {},
   "source": [
    "    using System; \n",
    "\n",
    "    class Program\n",
    "    { \n",
    "\n",
    "\n",
    "    static bool FindPoint(int x1, int y1, int x2, \n",
    "                          int y2, int x, int y) \n",
    "    { \n",
    "    if (x > x1 && x < x2 && \n",
    "        y > y1 && y < y2) \n",
    "        return true; \n",
    "\n",
    "    return false; \n",
    "    } \n",
    "\n",
    "    public static void Main()  \n",
    "    { \n",
    "\n",
    "\n",
    "        int x1 = 5, y1 = 2,  \n",
    "            x2 = 11, y2 = 20; \n",
    "\n",
    "        int x = 10, y = 10; \n",
    "\n",
    "\n",
    "        if (FindPoint(x1, y1, x2, y2, x, y)) \n",
    "            Console.Write(\"Yes\"); \n",
    "        else\n",
    "            Console.Write(\"No\"); \n",
    "    } \n",
    "    } \n",
    "\n",
    "\n"
   ]
  },
  {
   "cell_type": "markdown",
   "metadata": {},
   "source": [
    "![output](5b2.png)"
   ]
  },
  {
   "cell_type": "markdown",
   "metadata": {},
   "source": [
    "# Question 6\n",
    "\n",
    ">>> pig('happy')\n",
    "'appyhay'\n",
    ">>> pig('Enter')\n",
    "'enterway'"
   ]
  },
  {
   "cell_type": "code",
   "execution_count": null,
   "metadata": {},
   "outputs": [],
   "source": [
    "def pig(word):\n",
    "    if word[0] == 'a' or word[0] == 'e' or word[0] == 'i' or word[0] == 'o' or word[0] == 'u' or word[0] == 'y':\n",
    "        word += 'way'\n",
    "        print(word)\n",
    "    else:\n",
    "        appendLetter = word[0] + 'ay'\n",
    "        word += appendLetter\n",
    "        print(word[1:len(word)])\n",
    "        \n",
    "        \n",
    "word = input('Please enter a word:')\n",
    "pig(word)\n"
   ]
  },
  {
   "cell_type": "markdown",
   "metadata": {},
   "source": [
    "# Queation 9\n",
    "\n",
    " type of exception "
   ]
  },
  {
   "cell_type": "markdown",
   "metadata": {},
   "source": [
    "TypeError \n",
    "\n",
    "OverflowError\n",
    "\n",
    "NameError\n",
    "\n",
    "SyntaxError\n",
    "\n",
    "FileNotFoundError "
   ]
  }
 ],
 "metadata": {
  "kernelspec": {
   "display_name": "Python 3",
   "language": "python",
   "name": "python3"
  },
  "language_info": {
   "codemirror_mode": {
    "name": "ipython",
    "version": 3
   },
   "file_extension": ".py",
   "mimetype": "text/x-python",
   "name": "python",
   "nbconvert_exporter": "python",
   "pygments_lexer": "ipython3",
   "version": "3.8.5"
  }
 },
 "nbformat": 4,
 "nbformat_minor": 4
}
